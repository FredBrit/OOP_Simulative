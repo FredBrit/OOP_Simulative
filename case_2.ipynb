{
 "cells": [
  {
   "cell_type": "code",
   "execution_count": 1,
   "id": "678f8f4e",
   "metadata": {},
   "outputs": [],
   "source": [
    "class Task:\n",
    "\n",
    "  def __init__(self,task_id,name,description,status,duration):\n",
    "\n",
    "    self.task_id=task_id\n",
    "    self.name=name\n",
    "    self.description=description\n",
    "    self.status=status\n",
    "    self.duration=duration\n",
    "\n",
    "  def get_id(self):\n",
    "    return self.task_id\n",
    "\n",
    "  def get_name(self):\n",
    "    return self.name\n",
    "\n",
    "  def get_description(self):\n",
    "    return self.description\n",
    "\n",
    "  def get_status(self):\n",
    "    return self.status\n",
    "\n",
    "  def get_duration(self):\n",
    "    return self.duration        \n",
    "    \n",
    "\n",
    "class Project:\n",
    "\n",
    "  list_task=[]\n",
    "\n",
    "  def __iter__(self):\n",
    "    return iter(self.list_task)\n",
    "\n",
    "  def add_task(self,task):\n",
    "    self.task=task\n",
    "    self.list_task.append(task)\n",
    "\n",
    "  def remove_task(self,task_id):\n",
    "    self.task_id=task_id\n",
    "    for el in self.list_task:\n",
    "      if el.task_id==task_id:\n",
    "        self.list_task.remove(el)\n",
    "\n",
    "  def get_all_tasks(self):\n",
    "    return self.list_task"
   ]
  },
  {
   "cell_type": "code",
   "execution_count": 2,
   "id": "1b700e5f",
   "metadata": {},
   "outputs": [],
   "source": [
    "class Analysis:\n",
    "    @staticmethod\n",
    "    def count_tasks(project):\n",
    "        return len(project.get_all_tasks())\n",
    "    \n",
    "    @staticmethod\n",
    "    def count_tasks_by_status(project, status):\n",
    "        filtered_tasks=[]\n",
    "        for task in project:\n",
    "            if task.get_status()==status:\n",
    "                filtered_tasks.append(task)\n",
    "        return len(filtered_tasks)\n",
    "\n",
    "    @staticmethod\n",
    "    def find_longest_task(project):\n",
    "        durations=[]\n",
    "        for task in project:\n",
    "            durations.append(task.get_duration())\n",
    "\n",
    "        longest_tasks=[]\n",
    "        for task in project:\n",
    "            if task.get_duration()==max(durations):\n",
    "                longest_tasks.append(task)\n",
    "        return longest_tasks[0]"
   ]
  },
  {
   "cell_type": "code",
   "execution_count": 3,
   "id": "1b326cfc",
   "metadata": {},
   "outputs": [],
   "source": [
    "class EnhancedAnalysis(Analysis):\n",
    "    @staticmethod\n",
    "    def find_tasks_with_keywords(project, keywords):\n",
    "        tasks_with_keywords=[]\n",
    "        for k in keywords:\n",
    "            for task in project:\n",
    "                if k in task.get_name() or k in task.get_description():\n",
    "                    tasks_with_keywords.append(task)\n",
    "\n",
    "        return tasks_with_keywords "
   ]
  },
  {
   "cell_type": "code",
   "execution_count": null,
   "id": "cc46c9d7",
   "metadata": {},
   "outputs": [],
   "source": []
  }
 ],
 "metadata": {
  "kernelspec": {
   "display_name": "Python 3",
   "language": "python",
   "name": "python3"
  },
  "language_info": {
   "codemirror_mode": {
    "name": "ipython",
    "version": 3
   },
   "file_extension": ".py",
   "mimetype": "text/x-python",
   "name": "python",
   "nbconvert_exporter": "python",
   "pygments_lexer": "ipython3",
   "version": "3.13.2"
  }
 },
 "nbformat": 4,
 "nbformat_minor": 5
}
