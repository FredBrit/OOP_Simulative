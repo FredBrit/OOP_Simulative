{
 "cells": [
  {
   "cell_type": "code",
   "execution_count": 1,
   "id": "7c30de08",
   "metadata": {},
   "outputs": [],
   "source": [
    "class Lead:\n",
    "\n",
    "  def __init__(self,lead_id, datetime, page, form_title, contacts, name):\n",
    "    self.lead_id=lead_id\n",
    "    self.datetime=datetime\n",
    "    self.page=page\n",
    "    self.form_title=form_title\n",
    "    self.contacts=contacts\n",
    "    self.name=name\n",
    "\n",
    "  def to_dict(self):\n",
    "    keys=['lead_id','datetime','page','form_title','contacts','name']\n",
    "    values=[self.lead_id,self.datetime,self.page,self.form_title,self.contacts,self.name]\n",
    "\n",
    "    lead_dict=dict(zip(keys,values))\n",
    "    return lead_dict"
   ]
  },
  {
   "cell_type": "code",
   "execution_count": 2,
   "id": "203cae7f",
   "metadata": {},
   "outputs": [],
   "source": [
    "class Simulator:\n",
    "\n",
    "  def __init__(self,simulator_type,version):\n",
    "    self.simulator_type=simulator_type\n",
    "    self.version=version\n",
    "\n",
    "  def to_dict(self):\n",
    "    keys=['simulator_type','version']\n",
    "    values=[self.simulator_type,self.version]\n",
    "\n",
    "    simulator_dict=dict(zip(keys,values))\n",
    "    return simulator_dict"
   ]
  },
  {
   "cell_type": "code",
   "execution_count": 3,
   "id": "2a7913f6",
   "metadata": {},
   "outputs": [],
   "source": [
    "class SalesFunnel:\n",
    "\n",
    "  def __init__(self):\n",
    "    self.stages=[]\n",
    "  \n",
    "  def add_stage(self,stage):\n",
    "    self.stage=stage\n",
    "    self.stages.append(stage)"
   ]
  },
  {
   "cell_type": "code",
   "execution_count": 7,
   "id": "434e7fab",
   "metadata": {},
   "outputs": [],
   "source": [
    "import requests\n",
    "\n",
    "class SalesFunnel:\n",
    "\n",
    "  def __init__(self,stages):\n",
    "    self.stages=[]\n",
    "  \n",
    "  def add_stage(self,stage):\n",
    "    self.stage=stage\n",
    "    self.stages.append(stage)\n",
    "\n",
    "  def process_lead(self,lead):\n",
    "    crm_url = \"https://itresume.com/crm/api/leads\"\n",
    "    crm_params = {\n",
    "           'lead_id': lead.lead_id,\n",
    "           'datetime': lead.datetime,\n",
    "           'page': lead.page,\n",
    "           'form_title': lead.form_title,\n",
    "           'contacts': lead.contacts,\n",
    "           'name': lead.name\n",
    "       }\n",
    "    response = requests.post(crm_url, json=crm_params)\n",
    "    if response.status_code == 200:\n",
    "      print(\"Данные лида успешно отправлены в CRM\")\n",
    "    else:\n",
    "      print(f\"Не удалось отправить данные лида в CRM\")\n",
    "\n",
    "#Дальше не очень понятно, пробовал различные методы API на других сайтах-корректно работает\n",
    "#Здесь response.json() не приходит, какие-то ошибки, вообщем не очень понятно как с этим работать\n",
    "     "
   ]
  },
  {
   "cell_type": "code",
   "execution_count": null,
   "id": "414ecc52",
   "metadata": {},
   "outputs": [],
   "source": []
  }
 ],
 "metadata": {
  "kernelspec": {
   "display_name": "Python 3",
   "language": "python",
   "name": "python3"
  },
  "language_info": {
   "codemirror_mode": {
    "name": "ipython",
    "version": 3
   },
   "file_extension": ".py",
   "mimetype": "text/x-python",
   "name": "python",
   "nbconvert_exporter": "python",
   "pygments_lexer": "ipython3",
   "version": "3.13.2"
  }
 },
 "nbformat": 4,
 "nbformat_minor": 5
}
